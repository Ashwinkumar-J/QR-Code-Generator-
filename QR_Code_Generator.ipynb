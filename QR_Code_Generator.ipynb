{
  "nbformat": 4,
  "nbformat_minor": 0,
  "metadata": {
    "colab": {
      "name": "QR Code Generator.ipynb",
      "provenance": [],
      "collapsed_sections": [],
      "authorship_tag": "ABX9TyNozq7Tmj2GGMwY3dR6t1B+",
      "include_colab_link": true
    },
    "kernelspec": {
      "name": "python3",
      "display_name": "Python 3"
    },
    "language_info": {
      "name": "python"
    }
  },
  "cells": [
    {
      "cell_type": "markdown",
      "metadata": {
        "id": "view-in-github",
        "colab_type": "text"
      },
      "source": [
        "<a href=\"https://colab.research.google.com/github/Ashwinkumar-J/QR-Code-Generator-/blob/main/QR_Code_Generator.ipynb\" target=\"_parent\"><img src=\"https://colab.research.google.com/assets/colab-badge.svg\" alt=\"Open In Colab\"/></a>"
      ]
    },
    {
      "cell_type": "code",
      "source": [
        "!pip install pyqrcode\n",
        "!pip install pypng\n",
        "import pyqrcode\n",
        "import png\n",
        "from pyqrcode import QRCode\n",
        "website = input(\"Please enter your Text or Link to generate QR Code : \")\n",
        "Name=input(\"Enter the name in which the QR needs to be Saved : \")\n",
        "url = pyqrcode.create(website)\n",
        "url.svg(\"myqr.svg\", scale = 8)\n",
        "url.png(Name, scale = 6)\n",
        "!pip install opencv-python\n",
        "import cv2\n",
        "img=cv2.imread(Name)\n",
        "from google.colab.patches import cv2_imshow\n",
        "cv2_imshow(img)\n",
        "print(\"The \")\n",
        "print(\"Thank you for Using QR Code Generator, Have a Great Day \"+\"\\U0001F607\")"
      ],
      "metadata": {
        "colab": {
          "base_uri": "https://localhost:8080/",
          "height": 402
        },
        "id": "iaP5d-MAzWhC",
        "outputId": "f2bd6230-b605-4e0b-81a7-a24402df8b85"
      },
      "execution_count": null,
      "outputs": [
        {
          "output_type": "stream",
          "name": "stdout",
          "text": [
            "Requirement already satisfied: pyqrcode in /usr/local/lib/python3.7/dist-packages (1.2.1)\n",
            "Requirement already satisfied: pypng in /usr/local/lib/python3.7/dist-packages (0.0.21)\n",
            "Please enter your Text or Link to generate QR Code : https://ashwinkumar.carrd.co/\n",
            "Enter the name in which the QR needs to be Saved : AshwinProfile\n",
            "Requirement already satisfied: opencv-python in /usr/local/lib/python3.7/dist-packages (4.1.2.30)\n",
            "Requirement already satisfied: numpy>=1.14.5 in /usr/local/lib/python3.7/dist-packages (from opencv-python) (1.21.5)\n"
          ]
        },
        {
          "output_type": "display_data",
          "data": {
            "text/plain": [
              "<PIL.Image.Image image mode=RGB size=246x246 at 0x7F8779DA9050>"
            ],
            "image/png": "[encoded data removed]"
          },
          "metadata": {}
        },
        {
          "output_type": "stream",
          "name": "stdout",
          "text": [
            "Thank you for Using QR Code Generator, Have a Great Day 😇\n"
          ]
        }
      ]
    }
  ]
}